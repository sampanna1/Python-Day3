{
 "cells": [
  {
   "cell_type": "markdown",
   "id": "1c77d726",
   "metadata": {},
   "source": [
    "# Tuples\n",
    "\n",
    "A tuples is an immutable list. For example: A tuples cann't be changed in any way, once it has been created. History events. \n",
    "* Tuples are faster than lists \n",
    "* If you know that some data doesn't have to be changed, you should use Tuples insted of lists, because this protects your data againts accidental changes \n",
    "* The main advantage of Tuples is that Tuples can be used as keys in dictionries, whicle lists can't. \n",
    "\n"
   ]
  },
  {
   "cell_type": "code",
   "execution_count": 1,
   "id": "12391a4e",
   "metadata": {
    "scrolled": true
   },
   "outputs": [
    {
     "data": {
      "text/plain": [
       "('tuples', 'are', 'immutable')"
      ]
     },
     "execution_count": 1,
     "metadata": {},
     "output_type": "execute_result"
    }
   ],
   "source": [
    "tpl = (\"tuples\", \"are\", \"immutable\")\n",
    "tpl[0]\n",
    "tpl"
   ]
  },
  {
   "cell_type": "markdown",
   "id": "def3d49b",
   "metadata": {},
   "source": [
    "# Tuples value can't be replace"
   ]
  },
  {
   "cell_type": "code",
   "execution_count": 4,
   "id": "f9da67ad",
   "metadata": {
    "scrolled": false
   },
   "outputs": [
    {
     "ename": "TypeError",
     "evalue": "'tuple' object does not support item assignment",
     "output_type": "error",
     "traceback": [
      "\u001b[1;31m---------------------------------------------------------------------------\u001b[0m",
      "\u001b[1;31mTypeError\u001b[0m                                 Traceback (most recent call last)",
      "Cell \u001b[1;32mIn[4], line 1\u001b[0m\n\u001b[1;32m----> 1\u001b[0m tpl[\u001b[38;5;241m0\u001b[39m] \u001b[38;5;241m=\u001b[39m \u001b[38;5;124m\"\u001b[39m\u001b[38;5;124mtry to assing this value to a tuple\u001b[39m\u001b[38;5;124m\"\u001b[39m\n",
      "\u001b[1;31mTypeError\u001b[0m: 'tuple' object does not support item assignment"
     ]
    }
   ],
   "source": [
    "tpl[0] = \"try to assing this value to a tuple\"\n"
   ]
  },
  {
   "cell_type": "code",
   "execution_count": 8,
   "id": "3c06296d",
   "metadata": {},
   "outputs": [
    {
     "data": {
      "text/plain": [
       "['a', 'b']"
      ]
     },
     "execution_count": 8,
     "metadata": {},
     "output_type": "execute_result"
    }
   ],
   "source": [
    "tplList =([\"a\",\"b\"], \"c\",\"d\")\n",
    "tplList[0]\n"
   ]
  },
  {
   "cell_type": "code",
   "execution_count": 11,
   "id": "c4345104",
   "metadata": {},
   "outputs": [
    {
     "data": {
      "text/plain": [
       "list"
      ]
     },
     "execution_count": 11,
     "metadata": {},
     "output_type": "execute_result"
    }
   ],
   "source": [
    "type(tplList[0]) #Trying to find what kind of data is this by typing TYPE and variable \n"
   ]
  },
  {
   "cell_type": "code",
   "execution_count": 12,
   "id": "fea32c0c",
   "metadata": {},
   "outputs": [
    {
     "data": {
      "text/plain": [
       "tuple"
      ]
     },
     "execution_count": 12,
     "metadata": {},
     "output_type": "execute_result"
    }
   ],
   "source": [
    "type(tplList) #Trying to find what kind of data is this by typing TYPE and variable \n"
   ]
  },
  {
   "cell_type": "code",
   "execution_count": 10,
   "id": "0ada62f0",
   "metadata": {},
   "outputs": [
    {
     "data": {
      "text/plain": [
       "(['a', 'b', 'ab'], 'c', 'd')"
      ]
     },
     "execution_count": 10,
     "metadata": {},
     "output_type": "execute_result"
    }
   ],
   "source": [
    "tplList =([\"a\",\"b\"], \"c\",\"d\")\n",
    "tplList[0].append(\"ab\")\n",
    "tplList\n"
   ]
  },
  {
   "cell_type": "code",
   "execution_count": null,
   "id": "9d2be52c",
   "metadata": {},
   "outputs": [],
   "source": [
    "tplList =([\"a\",\"b\"], \"c\",\"d\")\n",
    "tplList[0].append(\"ab\")\n",
    "tplList\n"
   ]
  },
  {
   "cell_type": "code",
   "execution_count": 13,
   "id": "e6c458ce",
   "metadata": {},
   "outputs": [
    {
     "data": {
      "text/plain": [
       "list"
      ]
     },
     "execution_count": 13,
     "metadata": {},
     "output_type": "execute_result"
    }
   ],
   "source": [
    "regularListandTuple = [\"a\", (1, 1, 2, 3, 5), \"b\", \"C\"]\n",
    "type(regularListandTuple)"
   ]
  },
  {
   "cell_type": "code",
   "execution_count": 14,
   "id": "6305e32e",
   "metadata": {},
   "outputs": [
    {
     "data": {
      "text/plain": [
       "tuple"
      ]
     },
     "execution_count": 14,
     "metadata": {},
     "output_type": "execute_result"
    }
   ],
   "source": [
    "type(regularListandTuple[1])"
   ]
  },
  {
   "cell_type": "code",
   "execution_count": 15,
   "id": "45d9e526",
   "metadata": {},
   "outputs": [
    {
     "ename": "TypeError",
     "evalue": "'tuple' object does not support item assignment",
     "output_type": "error",
     "traceback": [
      "\u001b[1;31m---------------------------------------------------------------------------\u001b[0m",
      "\u001b[1;31mTypeError\u001b[0m                                 Traceback (most recent call last)",
      "Cell \u001b[1;32mIn[15], line 1\u001b[0m\n\u001b[1;32m----> 1\u001b[0m regularListandTuple[\u001b[38;5;241m1\u001b[39m][\u001b[38;5;241m0\u001b[39m] \u001b[38;5;241m=\u001b[39m\u001b[38;5;124m\"\u001b[39m\u001b[38;5;124mz\u001b[39m\u001b[38;5;124m\"\u001b[39m\n",
      "\u001b[1;31mTypeError\u001b[0m: 'tuple' object does not support item assignment"
     ]
    }
   ],
   "source": [
    "regularListandTuple[1][0] =\"z\""
   ]
  },
  {
   "cell_type": "code",
   "execution_count": 19,
   "id": "f2f3b1c1",
   "metadata": {},
   "outputs": [
    {
     "data": {
      "text/plain": [
       "(10, 5)"
      ]
     },
     "execution_count": 19,
     "metadata": {},
     "output_type": "execute_result"
    }
   ],
   "source": [
    "coordinates = [(10,5),(20,15),(30,25)]\n",
    "\n",
    "coordinates[0]"
   ]
  },
  {
   "cell_type": "code",
   "execution_count": 20,
   "id": "9acb4248",
   "metadata": {},
   "outputs": [
    {
     "data": {
      "text/plain": [
       "['A', (20, 15), (30, 25)]"
      ]
     },
     "execution_count": 20,
     "metadata": {},
     "output_type": "execute_result"
    }
   ],
   "source": [
    "coordinates[0] = \"A\"\n",
    "coordinates"
   ]
  },
  {
   "cell_type": "markdown",
   "id": "c903970c",
   "metadata": {},
   "source": [
    "# Slicing (SubAry)\n"
   ]
  },
  {
   "cell_type": "code",
   "execution_count": 25,
   "id": "6a902c68",
   "metadata": {},
   "outputs": [
    {
     "data": {
      "text/plain": [
       "'python'"
      ]
     },
     "execution_count": 25,
     "metadata": {},
     "output_type": "execute_result"
    }
   ],
   "source": [
    "message = \"python is great\"\n",
    "firstSix = message [0:6]\n",
    "firstSix"
   ]
  },
  {
   "cell_type": "code",
   "execution_count": 26,
   "id": "deeb595f",
   "metadata": {},
   "outputs": [
    {
     "data": {
      "text/plain": [
       "'n is great'"
      ]
     },
     "execution_count": 26,
     "metadata": {},
     "output_type": "execute_result"
    }
   ],
   "source": [
    "startAtFive = message[5:]\n",
    "startAtFive"
   ]
  },
  {
   "cell_type": "code",
   "execution_count": 27,
   "id": "2d722d47",
   "metadata": {},
   "outputs": [
    {
     "data": {
      "text/plain": [
       "'python is great'"
      ]
     },
     "execution_count": 27,
     "metadata": {},
     "output_type": "execute_result"
    }
   ],
   "source": [
    "cloneData = message[:]\n",
    "cloneData"
   ]
  },
  {
   "cell_type": "code",
   "execution_count": 29,
   "id": "c4e2df37",
   "metadata": {},
   "outputs": [
    {
     "data": {
      "text/plain": [
       "'python is'"
      ]
     },
     "execution_count": 29,
     "metadata": {},
     "output_type": "execute_result"
    }
   ],
   "source": [
    "withoutLastFive = cloneData[0:-6]\n",
    "withoutLastFive"
   ]
  },
  {
   "cell_type": "markdown",
   "id": "1a2f5c49",
   "metadata": {},
   "source": [
    "# Creating List within a Slic"
   ]
  },
  {
   "cell_type": "code",
   "execution_count": 42,
   "id": "13107ff1",
   "metadata": {},
   "outputs": [
    {
     "data": {
      "text/plain": [
       "['Vienna', 'London', 'Paris']"
      ]
     },
     "execution_count": 42,
     "metadata": {},
     "output_type": "execute_result"
    }
   ],
   "source": [
    "lstCities = [\"Vienna\", \"London\", \"Paris\", \"Berlin\", \"Zurich\", \"Hamburg\"]\n",
    "FirstThree = lstCities[0:3]\n",
    "FirstThree\n"
   ]
  },
  {
   "cell_type": "code",
   "execution_count": 43,
   "id": "3f6d64c1",
   "metadata": {},
   "outputs": [
    {
     "data": {
      "text/plain": [
       "['Vienna', 'London', 'Paris', 'Berlin']"
      ]
     },
     "execution_count": 43,
     "metadata": {},
     "output_type": "execute_result"
    }
   ],
   "source": [
    "allButLastTwo = lstCities [:-2]\n",
    "allButLastTwo"
   ]
  },
  {
   "cell_type": "markdown",
   "id": "e73115e5",
   "metadata": {},
   "source": [
    "# Slicing has begin and eng [begin:end]\n",
    "# Slicing also has 3 operators  [begin:end:step]"
   ]
  },
  {
   "cell_type": "markdown",
   "id": "0b51fecc",
   "metadata": {},
   "source": [
    "\n",
    "# Length\n",
    "Length of a sequence, For example: a list or a tuple can be determinded with the function len()\n"
   ]
  },
  {
   "cell_type": "code",
   "execution_count": 49,
   "id": "00a66d5a",
   "metadata": {},
   "outputs": [
    {
     "data": {
      "text/plain": [
       "11"
      ]
     },
     "execution_count": 49,
     "metadata": {},
     "output_type": "execute_result"
    }
   ],
   "source": [
    "txt = \"Hello World\"\n",
    "len(txt)"
   ]
  },
  {
   "cell_type": "code",
   "execution_count": 51,
   "id": "923a46d9",
   "metadata": {},
   "outputs": [
    {
     "data": {
      "text/plain": [
       "4"
      ]
     },
     "execution_count": 51,
     "metadata": {},
     "output_type": "execute_result"
    }
   ],
   "source": [
    "lstABC = [\"john\", 48, 3.54, \"jane\"]\n",
    "len(lstABC)"
   ]
  },
  {
   "cell_type": "markdown",
   "id": "d5c19ab1",
   "metadata": {},
   "source": [
    "# Concatenation of Sequences "
   ]
  },
  {
   "cell_type": "code",
   "execution_count": 55,
   "id": "586b91fa",
   "metadata": {},
   "outputs": [
    {
     "data": {
      "text/plain": [
       "['red', 'green', 'blue', 'black', 'white']"
      ]
     },
     "execution_count": 55,
     "metadata": {},
     "output_type": "execute_result"
    }
   ],
   "source": [
    "Colors1 =[\"red\",\"green\",\"blue\"]\n",
    "Colors2 =[\"black\",\"white\"]\n",
    "Colors = Colors1 + Colors2\n",
    "Colors"
   ]
  },
  {
   "cell_type": "markdown",
   "id": "bc0aee11",
   "metadata": {},
   "source": [
    "# Increment Operation\n"
   ]
  },
  {
   "cell_type": "code",
   "execution_count": 58,
   "id": "9e742b89",
   "metadata": {},
   "outputs": [
    {
     "data": {
      "text/plain": [
       "3"
      ]
     },
     "execution_count": 58,
     "metadata": {},
     "output_type": "execute_result"
    }
   ],
   "source": [
    "x = 2\n",
    "x = x + 1\n",
    "x"
   ]
  },
  {
   "cell_type": "code",
   "execution_count": 59,
   "id": "fb680634",
   "metadata": {},
   "outputs": [
    {
     "data": {
      "text/plain": [
       "3"
      ]
     },
     "execution_count": 59,
     "metadata": {},
     "output_type": "execute_result"
    }
   ],
   "source": [
    "y = 2\n",
    "y += 1 #Augmented Assignment \n",
    "y"
   ]
  },
  {
   "cell_type": "markdown",
   "id": "d3ab832f",
   "metadata": {},
   "source": [
    "# Checking if an element is contained in list"
   ]
  },
  {
   "cell_type": "code",
   "execution_count": 60,
   "id": "90e05c13",
   "metadata": {},
   "outputs": [
    {
     "data": {
      "text/plain": [
       "True"
      ]
     },
     "execution_count": 60,
     "metadata": {},
     "output_type": "execute_result"
    }
   ],
   "source": [
    "abc = [\"a\",\"b\",\"c\", \"d\", \"e\",]\n",
    "\"a\" in abc"
   ]
  },
  {
   "cell_type": "code",
   "execution_count": 61,
   "id": "6fa69cfa",
   "metadata": {},
   "outputs": [
    {
     "data": {
      "text/plain": [
       "False"
      ]
     },
     "execution_count": 61,
     "metadata": {},
     "output_type": "execute_result"
    }
   ],
   "source": [
    "\"a\" not in abc"
   ]
  },
  {
   "cell_type": "code",
   "execution_count": 62,
   "id": "17466e61",
   "metadata": {},
   "outputs": [
    {
     "data": {
      "text/plain": [
       "True"
      ]
     },
     "execution_count": 62,
     "metadata": {},
     "output_type": "execute_result"
    }
   ],
   "source": [
    "\"f\" not in abc"
   ]
  },
  {
   "cell_type": "code",
   "execution_count": null,
   "id": "d8c23980",
   "metadata": {},
   "outputs": [],
   "source": []
  }
 ],
 "metadata": {
  "kernelspec": {
   "display_name": "Python 3 (ipykernel)",
   "language": "python",
   "name": "python3"
  },
  "language_info": {
   "codemirror_mode": {
    "name": "ipython",
    "version": 3
   },
   "file_extension": ".py",
   "mimetype": "text/x-python",
   "name": "python",
   "nbconvert_exporter": "python",
   "pygments_lexer": "ipython3",
   "version": "3.11.5"
  }
 },
 "nbformat": 4,
 "nbformat_minor": 5
}
