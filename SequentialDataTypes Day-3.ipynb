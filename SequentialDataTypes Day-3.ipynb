{
 "cells": [
  {
   "cell_type": "markdown",
   "id": "52a267a6",
   "metadata": {},
   "source": [
    "# Main properties of Python List:\n",
    "\n",
    "* They are ordered. For Example: 0 1 2 3 4 5 6 7 8 9 \n",
    "* They contain arbitrary objects # For example:  [\"Bob\", 23, \"George\", 72, \" Myriam\", 29]\n",
    "* Elements of a  list can be accessed by an index.\n",
    "* Variable size \n",
    "* They are mutable. For example: The ekements a list can be cahnged. "
   ]
  },
  {
   "cell_type": "code",
   "execution_count": 5,
   "id": "aaada0cf",
   "metadata": {},
   "outputs": [
    {
     "data": {
      "text/plain": [
       "['High Up', ['Further down', ['and down', ['deep down', 'the answer, 43']]]]"
      ]
     },
     "execution_count": 5,
     "metadata": {},
     "output_type": "execute_result"
    }
   ],
   "source": [
    "# Examples\n",
    "[] # An Emplty list\n",
    "[43, \"what's the question?\", 3.145] # A list of mixed data types\n",
    "[1,2,3,4,5,6,7,8] # a list of Integers\n",
    "[\"John\", \"Jane\", \"Jake\", \"Jim\"] # a list of strings\n",
    "[[\"London\", \"England\", 75670], [\"paris\", \"France\", 219300]] # A nested list\n",
    "[\"High Up\", [\"Further down\", [\"and down\", [\"deep down\", \"the answer, 43\"]]]]\n",
    "\n",
    "\n",
    "\n",
    "\n",
    "\n"
   ]
  },
  {
   "cell_type": "code",
   "execution_count": 13,
   "id": "34b004af",
   "metadata": {},
   "outputs": [
    {
     "data": {
      "text/plain": [
       "['John', 'Smith']"
      ]
     },
     "execution_count": 13,
     "metadata": {},
     "output_type": "execute_result"
    }
   ],
   "source": [
    "lstPerson = [[\"John\", \"Smith\"], [\"17 New Street\", \"12345\", \"London\"], \"0786-7890\"]\n",
    "name = lstPerson[0]\n",
    "name"
   ]
  },
  {
   "cell_type": "code",
   "execution_count": 21,
   "id": "66110421",
   "metadata": {},
   "outputs": [
    {
     "data": {
      "text/plain": [
       "'17'"
      ]
     },
     "execution_count": 21,
     "metadata": {},
     "output_type": "execute_result"
    }
   ],
   "source": [
    "lstPerson = [[\"John\", \"Smith\"], [\"17 New Street\", \"12345\", \"London\"], \"0786-7890\"]\n",
    "stretname = lstPerson[1][0][0:2]\n",
    "stretname"
   ]
  },
  {
   "cell_type": "code",
   "execution_count": 28,
   "id": "059dc98d",
   "metadata": {},
   "outputs": [
    {
     "data": {
      "text/plain": [
       "'12345'"
      ]
     },
     "execution_count": 28,
     "metadata": {},
     "output_type": "execute_result"
    }
   ],
   "source": [
    "lstPerson = [[\"John\", \"Smith\"], [\"17 New Street\", \"12345\", \"London\"], \"0786-7890\"]\n",
    "zepcode = lstPerson[1][1]\n",
    "zepcode"
   ]
  },
  {
   "cell_type": "code",
   "execution_count": 29,
   "id": "5d4603b3",
   "metadata": {},
   "outputs": [
    {
     "data": {
      "text/plain": [
       "'0786-7890'"
      ]
     },
     "execution_count": 29,
     "metadata": {},
     "output_type": "execute_result"
    }
   ],
   "source": [
    "lstPerson = [[\"John\", \"Smith\"], [\"17 New Street\", \"12345\", \"London\"], \"0786-7890\"]\n",
    "zepcode = lstPerson[2]\n",
    "zepcode"
   ]
  },
  {
   "cell_type": "markdown",
   "id": "a51b1fca",
   "metadata": {},
   "source": [
    "# Elements of a list can be accessed by an index"
   ]
  },
  {
   "cell_type": "code",
   "execution_count": 56,
   "id": "849b8123",
   "metadata": {},
   "outputs": [
    {
     "data": {
      "text/plain": [
       "['b', ['c', 'x']]"
      ]
     },
     "execution_count": 56,
     "metadata": {},
     "output_type": "execute_result"
    }
   ],
   "source": [
    "complex_list = [[\"a\", [\"b\", [\"c\", \"x\"]]], 74 ]\n",
    "# out put  b, c and x\n",
    " \n",
    "output = complex_list[0][1]\n",
    "output\n"
   ]
  },
  {
   "cell_type": "markdown",
   "id": "993da23d",
   "metadata": {},
   "source": [
    "# Elements of a list can be accessed by an index"
   ]
  },
  {
   "cell_type": "code",
   "execution_count": 58,
   "id": "797fb9ce",
   "metadata": {},
   "outputs": [
    {
     "data": {
      "text/plain": [
       "'c'"
      ]
     },
     "execution_count": 58,
     "metadata": {},
     "output_type": "execute_result"
    }
   ],
   "source": [
    "complex_list = [[\"a\", [\"b\", [\"c\", \"x\"]]], 74 ]\n",
    "\n",
    "# out put of c \n",
    "\n",
    "output = complex_list[0][1][1][0]\n",
    "output\n"
   ]
  },
  {
   "cell_type": "markdown",
   "id": "abf47271",
   "metadata": {},
   "source": [
    "# Changing List\n"
   ]
  },
  {
   "cell_type": "code",
   "execution_count": 71,
   "id": "bc713d50",
   "metadata": {},
   "outputs": [
    {
     "data": {
      "text/plain": [
       "['Python', 'C', 'C++', 'Java', 'Lisp']"
      ]
     },
     "execution_count": 71,
     "metadata": {},
     "output_type": "execute_result"
    }
   ],
   "source": [
    "prgLanguages = [\"Python\", \"C\", \"C++\", \"Java\", \"Perl\"]\n",
    "#proLanguages = [\"Python\", \"C\", \"C++\", \"Java\", \"Perl\"]\n",
    "prgLanguages[4] = \"Lisp\"\n",
    "prgLanguages"
   ]
  },
  {
   "cell_type": "markdown",
   "id": "bef78fcc",
   "metadata": {},
   "source": [
    "# insert append"
   ]
  },
  {
   "cell_type": "code",
   "execution_count": 78,
   "id": "9e65cfb1",
   "metadata": {},
   "outputs": [
    {
     "data": {
      "text/plain": [
       "['Python',\n",
       " 'perl',\n",
       " 'perl',\n",
       " 'perl',\n",
       " 'C',\n",
       " 'C++',\n",
       " 'Java',\n",
       " 'Lisp',\n",
       " 'Haskell',\n",
       " 'Haskell',\n",
       " 'Haskell',\n",
       " 'Haskell']"
      ]
     },
     "execution_count": 78,
     "metadata": {},
     "output_type": "execute_result"
    }
   ],
   "source": [
    "\n",
    "prgLanguages.append(\"Haskell\")\n",
    "prgLanguages"
   ]
  },
  {
   "cell_type": "markdown",
   "id": "bf315e30",
   "metadata": {},
   "source": [
    "# insert"
   ]
  },
  {
   "cell_type": "code",
   "execution_count": 77,
   "id": "725c8d19",
   "metadata": {},
   "outputs": [
    {
     "data": {
      "text/plain": [
       "['Python',\n",
       " 'perl',\n",
       " 'perl',\n",
       " 'perl',\n",
       " 'C',\n",
       " 'C++',\n",
       " 'Java',\n",
       " 'Lisp',\n",
       " 'Haskell',\n",
       " 'Haskell',\n",
       " 'Haskell']"
      ]
     },
     "execution_count": 77,
     "metadata": {},
     "output_type": "execute_result"
    }
   ],
   "source": [
    "prgLanguages.insert( 1, \"perl\")\n",
    "prgLanguages"
   ]
  },
  {
   "cell_type": "markdown",
   "id": "06718556",
   "metadata": {},
   "source": [
    "# Create a shopping list for your groceries and add, milk, yogurt, egg, bread, bananas, butter\n"
   ]
  },
  {
   "cell_type": "code",
   "execution_count": null,
   "id": "1106bb68",
   "metadata": {},
   "outputs": [],
   "source": [
    "shopping_list = [\"yogurt\", \"egg\", \"bread\", \"bananas\", \"butter\"]"
   ]
  }
 ],
 "metadata": {
  "kernelspec": {
   "display_name": "Python 3 (ipykernel)",
   "language": "python",
   "name": "python3"
  },
  "language_info": {
   "codemirror_mode": {
    "name": "ipython",
    "version": 3
   },
   "file_extension": ".py",
   "mimetype": "text/x-python",
   "name": "python",
   "nbconvert_exporter": "python",
   "pygments_lexer": "ipython3",
   "version": "3.11.5"
  }
 },
 "nbformat": 4,
 "nbformat_minor": 5
}
